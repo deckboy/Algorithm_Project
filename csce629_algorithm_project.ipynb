{
 "cells": [
  {
   "cell_type": "markdown",
   "metadata": {},
   "source": [
    "<h1><center>Spring 2019CSCE-629 Project</center></h1>\n",
    "<div style=\"text-align: center\"> Rui Kou, 923006438 </div>\n",
    "\n",
    "\n",
    "\n"
   ]
  },
  {
   "cell_type": "markdown",
   "metadata": {},
   "source": [
    "#### In this project, we implement 3 Maximum Bandwidth Algorithms: \n",
    "-  Dijkstra without max heap\n",
    "-  Dijkstra with max heap\n",
    "-  Kruskal with HeapSort\n",
    "\n",
    "#### To start wtih, we load the packages that help with plotting and timing of the code "
   ]
  },
  {
   "cell_type": "code",
   "execution_count": 13,
   "metadata": {},
   "outputs": [],
   "source": [
    "import collections\n",
    "import random\n",
    "import numpy as np\n",
    "import matplotlib.pyplot as plt\n",
    "import time"
   ]
  },
  {
   "cell_type": "markdown",
   "metadata": {},
   "source": [
    "#### Define Graph using Linkedlist data structure and generating sparse and dense graph\n",
    "-  To generate sparse graph, we randomly pick 2 vertices to form an edge until there are totally 15,000 edges\n",
    "-  To generate dense graph, we loop through each vertex, and generate a edge with all other vertices at 20% probability"
   ]
  },
  {
   "cell_type": "code",
   "execution_count": 2,
   "metadata": {},
   "outputs": [],
   "source": [
    "class Graph:\n",
    "    def __init__(self,x):\n",
    "        self.Vertices = x\n",
    "        self.Weight = collections.defaultdict(int)\n",
    "        self.LinkedList = collections.defaultdict(set)\n",
    "        self.Edges = x-1\n",
    "        for i in range(x-1):\n",
    "            self.LinkedList[i].add(i+1)\n",
    "            self.LinkedList[i+1].add(i)\n",
    "            _w = random.randrange(1,100) \n",
    "            self.Weight[tuple([i,i+1])] = _w\n",
    "            self.Weight[tuple([i+1,i])] = _w\n",
    "\n",
    "    def sparse_graph(self):\n",
    "        total_edges = self.Vertices*3\n",
    "        #print(total_edges)\n",
    "        while self.Edges < total_edges:\n",
    "            v = random.randrange(self.Vertices)\n",
    "            w = random.randrange(self.Vertices)\n",
    "            if v != w and w not in self.LinkedList[v]:\n",
    "                #print(v,w)\n",
    "                self.LinkedList[v].add(w)\n",
    "                self.LinkedList[w].add(v)\n",
    "                self.Edges +=1\n",
    "                #print(self.Edges)\n",
    "                _w = random.randrange(1,100) \n",
    "                self.Weight[tuple([v,w])] = _w\n",
    "                self.Weight[tuple([w,v])] = _w\n",
    "                    \n",
    "    def dense_graph(self):\n",
    "        for v in range(self.Vertices):\n",
    "            for w in range(v+1,self.Vertices):\n",
    "                if w not in self.LinkedList[v] and random.uniform(0,1)<=0.2:\n",
    "                    self.LinkedList[v].add(w)\n",
    "                    self.LinkedList[w].add(v)\n",
    "                    self.Edges +=1    \n",
    "                    _w = random.randrange(1,100) \n",
    "                    self.Weight[tuple([v,w])] = _w\n",
    "                    self.Weight[tuple([w,v])] = _w"
   ]
  },
  {
   "cell_type": "markdown",
   "metadata": {},
   "source": [
    "#### Next, we create 5 pairs of sparse and dense graphs\n",
    "- Generating 5 sparse graph with average vertex degree of 6\n",
    "- Generate 5 dense graphs, in which each vertex is adjacent to 20% of other vertices\n"
   ]
  },
  {
   "cell_type": "code",
   "execution_count": 8,
   "metadata": {},
   "outputs": [],
   "source": [
    "g1_s = Graph(5000)\n",
    "g1_s.sparse_graph()\n",
    "\n",
    "g2_s = Graph(5000)\n",
    "g2_s.sparse_graph()\n",
    "\n",
    "g3_s = Graph(5000)\n",
    "g3_s.sparse_graph()\n",
    "\n",
    "g4_s = Graph(5000)\n",
    "g4_s.sparse_graph()\n",
    "\n",
    "g5_s = Graph(5000)\n",
    "g5_s.sparse_graph()"
   ]
  },
  {
   "cell_type": "code",
   "execution_count": 65,
   "metadata": {},
   "outputs": [],
   "source": [
    "sparse_graphs = [g1_s,g2_s,g3_s,g4_s,g5_s]"
   ]
  },
  {
   "cell_type": "code",
   "execution_count": 9,
   "metadata": {},
   "outputs": [],
   "source": [
    "g1_d = Graph(5000)\n",
    "g1_d.dense_graph()\n",
    "\n",
    "g2_d = Graph(5000)\n",
    "g2_d.dense_graph()\n",
    "\n",
    "g3_d = Graph(5000)\n",
    "g3_d.dense_graph()\n",
    "\n",
    "g4_d = Graph(5000)\n",
    "g4_d.dense_graph()\n",
    "\n",
    "g5_d = Graph(5000)\n",
    "g5_d.dense_graph()"
   ]
  },
  {
   "cell_type": "code",
   "execution_count": 66,
   "metadata": {},
   "outputs": [],
   "source": [
    "dense_graphs = [g1_d,g2_d,g3_d,g4_d,g5_d]"
   ]
  },
  {
   "cell_type": "markdown",
   "metadata": {},
   "source": [
    "#### To confirm our graph is generated as planned, we plot the histogram shown as below:\n",
    "-  1. Plot number of edge distribution for sparse graph. It shows the distribution peaks at 6, which proved our implementation of sparse graph\n",
    "-  2. Plot number of edge distribution for dense graph. It shows the distribution peaks at 1000, which proved our implementation of dense graph¶"
   ]
  },
  {
   "cell_type": "code",
   "execution_count": 10,
   "metadata": {},
   "outputs": [
    {
     "data": {
      "text/plain": [
       "(array([  0.,   0., 100., 362., 763., 934., 985., 778., 527., 280., 150.,\n",
       "        108.]),\n",
       " array([ 0.,  1.,  2.,  3.,  4.,  5.,  6.,  7.,  8.,  9., 10., 11., 12.]),\n",
       " <a list of 12 Patch objects>)"
      ]
     },
     "execution_count": 10,
     "metadata": {},
     "output_type": "execute_result"
    },
    {
     "data": {
      "image/png": "[encoded data removed]",
      "text/plain": [
       "<Figure size 432x288 with 1 Axes>"
      ]
     },
     "metadata": {
      "needs_background": "light"
     },
     "output_type": "display_data"
    }
   ],
   "source": [
    "a = []\n",
    "for key in g1_s.LinkedList:\n",
    "    a.append(len(g1_s.LinkedList[key]))\n",
    "plt.hist(a, bins = np.linspace(0,12,13))"
   ]
  },
  {
   "cell_type": "code",
   "execution_count": 171,
   "metadata": {
    "scrolled": true
   },
   "outputs": [
    {
     "data": {
      "text/plain": [
       "(array([  23.,  111.,  408.,  977., 1370., 1207.,  663.,  190.,   47.,\n",
       "           4.]),\n",
       " array([ 906. ,  926.1,  946.2,  966.3,  986.4, 1006.5, 1026.6, 1046.7,\n",
       "        1066.8, 1086.9, 1107. ]),\n",
       " <a list of 10 Patch objects>)"
      ]
     },
     "execution_count": 171,
     "metadata": {},
     "output_type": "execute_result"
    },
    {
     "data": {
      "image/png": "[encoded data removed]",
      "text/plain": [
       "<Figure size 432x288 with 1 Axes>"
      ]
     },
     "metadata": {
      "needs_background": "light"
     },
     "output_type": "display_data"
    }
   ],
   "source": [
    "a = []\n",
    "for key in g1_d.LinkedList:\n",
    "    a.append(len(g1_d.LinkedList[key]))\n",
    "#interval = np.linspace(0,2000,100)\n",
    "plt.hist(a)"
   ]
  },
  {
   "cell_type": "markdown",
   "metadata": {},
   "source": [
    "## Algorithm 1: \n",
    "#### Dijkstra Algorithm without using a heap structure, the time complexity is $O(n^{2}$)"
   ]
  },
  {
   "cell_type": "code",
   "execution_count": 103,
   "metadata": {},
   "outputs": [],
   "source": [
    " def Dijkstra_n2(g1,s,t):\n",
    "    status =[0]*g1.Vertices\n",
    "    bw = [0]*g1.Vertices\n",
    "    dad = [-1]*g1.Vertices\n",
    "    for i in range(g1.Vertices):\n",
    "        status[i]='unseen'\n",
    "    status[s] = 'intree'\n",
    "    bw[s] = 9999\n",
    "    for v in g1.LinkedList[s]:\n",
    "        status[v] = 'fringe'\n",
    "        bw[v] = g1.Weight[s,v]\n",
    "        dad[v] = s\n",
    "    while 'fringe' in status:\n",
    "        max_bw = 0\n",
    "        for i in range(len(status)):\n",
    "            if status[i]=='fringe' and bw[i]>max_bw:\n",
    "                max_bw = bw[i]\n",
    "                idx = i\n",
    "        v = idx\n",
    "        status[v] = 'intree'\n",
    "        if v == t:\n",
    "            return bw[v]\n",
    "        for w in g1.LinkedList[v]:\n",
    "            if status[w]=='unseen':\n",
    "                status[w] = 'fringe'\n",
    "                dad[w]=v\n",
    "                bw[w]=min(bw[v],g1.Weight[v,w])\n",
    "                #if w == t:\n",
    "                 #   return bw[w]\n",
    "            elif status[w]=='fringe' and bw[w]<min(bw[v],g1.Weight[v,w]):\n",
    "                dad[w]=v\n",
    "                bw[w]=min(bw[v],g1.Weight[v,w])"
   ]
  },
  {
   "cell_type": "markdown",
   "metadata": {},
   "source": [
    "#### To test the performance of algorithm 1, we use the 5 sparse graphs, and perform the task of finding MBP for 5 random s and t pairs\n",
    "-  We show the run time for all 25 combinations (5 graphs x 5 random s,t paris)\n",
    "-  The average run time of algorithm1 on sparse graph is 1.3 seconds"
   ]
  },
  {
   "cell_type": "code",
   "execution_count": 108,
   "metadata": {},
   "outputs": [
    {
     "name": "stdout",
     "output_type": "stream",
     "text": [
      "The average running time is 1.3059288120269776 seconds\n"
     ]
    },
    {
     "data": {
      "image/png": "[encoded data removed]",
      "text/plain": [
       "<Figure size 432x288 with 1 Axes>"
      ]
     },
     "metadata": {
      "needs_background": "light"
     },
     "output_type": "display_data"
    }
   ],
   "source": [
    "time_list = []\n",
    "for g in sparse_graphs:\n",
    "    for i in range(5):\n",
    "        s = random.randrange(5000)\n",
    "        t = random.randrange(5000)\n",
    "        while s == t:\n",
    "            t = random.randrange(5000)\n",
    "        t0 = time.time()\n",
    "        Maxbw = Dijkstra_n2(g,s,t)\n",
    "        t1 = time.time()\n",
    "        total = t1-t0\n",
    "        time_list.append(total)\n",
    "plt.plot(time_list)\n",
    "print('The average running time is {} seconds'.format(np.mean(time_list)))"
   ]
  },
  {
   "cell_type": "markdown",
   "metadata": {},
   "source": [
    "#### To test the performance of algorithm 1, we use the 5 dense graphs, and perform the task of finding MBP for 5 random s and t pairs\n",
    "-  We show the run time for all 25 combinations (5 graphs x 5 random s,t paris)\n",
    "-  The average run time of algorithm1 on sparse graph is 8.9 seconds"
   ]
  },
  {
   "cell_type": "code",
   "execution_count": 154,
   "metadata": {},
   "outputs": [
    {
     "name": "stdout",
     "output_type": "stream",
     "text": [
      "The average running time is 8.954958648681641 seconds\n"
     ]
    },
    {
     "data": {
      "image/png": "[encoded data removed]",
      "text/plain": [
       "<Figure size 432x288 with 1 Axes>"
      ]
     },
     "metadata": {
      "needs_background": "light"
     },
     "output_type": "display_data"
    }
   ],
   "source": [
    "time_list = []\n",
    "for g in dense_graphs:\n",
    "    for i in range(5):\n",
    "        s = random.randrange(5000)\n",
    "        t = random.randrange(5000)\n",
    "        while s == t:\n",
    "            t = random.randrange(5000)\n",
    "        t0 = time.time()\n",
    "        Maxbw = Dijkstra_n2(g,s,t)\n",
    "        t1 = time.time()\n",
    "        total = t1-t0\n",
    "        time_list.append(total)\n",
    "plt.plot(time_list)\n",
    "print('The average running time is {} seconds'.format(np.mean(time_list)))"
   ]
  },
  {
   "cell_type": "markdown",
   "metadata": {},
   "source": [
    "## Algorithm 2: \n",
    "#### Dijkstra Algorithm without using a heap structure, the time complexity is $O(mlog(n)$)\n",
    "#### First we define the MaxHeap data structure\n",
    "- We added a delete(w) function, to delete note with name/index w\n",
    "- To find w in the heap, the simple search is O(n)\n",
    "- We improved this O(n) search by recording the location of node w in the list \"location\"\n",
    "- The search of w in heap became O(1)"
   ]
  },
  {
   "cell_type": "code",
   "execution_count": 157,
   "metadata": {},
   "outputs": [],
   "source": [
    "class MaxHeap_locate:\n",
    "    def __init__(self,items = []):\n",
    "        super().__init__() # calling parent __init__\n",
    "        self.heap = [(0,-1)]\n",
    "        self.locate = [-1]*50000\n",
    "        for i in items:\n",
    "            self.heap.append(i)\n",
    "            self.__floatUp(len(self.heap)-1)\n",
    "            \n",
    "    def push(self, data):\n",
    "        self.heap.append(data)\n",
    "        self.locate[data[1]]=len(self.heap)-1\n",
    "        self.__floatUp(len(self.heap) - 1)\n",
    "        \n",
    "    def peek(self):\n",
    "        if self.heap[1]:\n",
    "            return self.heap[1]\n",
    "        else:\n",
    "            return False\n",
    "            \n",
    "    def pop(self):\n",
    "        if len(self.heap)>2:\n",
    "            self.__swap(1,len(self.heap)-1)\n",
    "            max = self.heap.pop() # remove the last on the list\n",
    "            self.__bubbleDown(1)\n",
    "            \n",
    "        elif len(self.heap) ==2:\n",
    "            max = self.heap.pop()\n",
    "        else:\n",
    "            max = False\n",
    "        return max\n",
    "    \n",
    "    def delete(self,w):\n",
    "        i = self.locate[w]\n",
    "        self.__swap(i,len(self.heap)-1)\n",
    "        self.heap.pop()\n",
    "        self.__bubbleDown(i)     \n",
    "        \n",
    "    def __swap(self,i,j): # __internal functions\n",
    "        self.locate[self.heap[i][1]],self.locate[self.heap[j][1]]=self.locate[self.heap[j][1]],self.locate[self.heap[i][1]]\n",
    "        self.heap[i],self.heap[j] = self.heap[j],self.heap[i]\n",
    "        \n",
    "    \n",
    "    def __floatUp(self,index):\n",
    "        parent = index//2 # '//' floor division\n",
    "        if index <= 1:\n",
    "            return\n",
    "        elif self.heap[index][0]>self.heap[parent][0]:\n",
    "            self.__swap(index,parent)\n",
    "            self.__floatUp(parent)\n",
    "        \n",
    "    def __bubbleDown(self, index):\n",
    "        left = index *2\n",
    "        right = index*2 +1\n",
    "        largest = index\n",
    "        if len(self.heap)>left and self.heap[largest][0]<self.heap[left][0]:\n",
    "            largest = left\n",
    "        if len(self.heap)>right and self.heap[largest][0] < self.heap[right][0]:\n",
    "            largest = right\n",
    "        if largest !=index:\n",
    "            self.__swap(index,largest)\n",
    "            self.__bubbleDown(largest)\n",
    "        left = index *2\n",
    "        right = index*2 +1\n",
    "        largest = index\n",
    "        if len(self.heap)>left and self.heap[largest][0]<self.heap[left][0]:\n",
    "            largest = left\n",
    "        if len(self.heap)>right and self.heap[largest][0] < self.heap[right][0]:\n",
    "            largest = right\n",
    "        if largest !=index:\n",
    "            self.__swap(index,largest)\n",
    "            self.__bubbleDown(largest)"
   ]
  },
  {
   "cell_type": "markdown",
   "metadata": {},
   "source": [
    "#### Dijkstra with MaxHeap\n",
    "-  Instead of searching for the largest edge, we maintain a max heap\n",
    "-  To delete a node from the max heap, we use the improved O(1) method"
   ]
  },
  {
   "cell_type": "code",
   "execution_count": 159,
   "metadata": {},
   "outputs": [],
   "source": [
    "def MaxHeap_Dijkstra(g1,s,t):\n",
    "    status =[0]*g1.Vertices\n",
    "    bw = [0]*g1.Vertices\n",
    "    dad = [-1]*g1.Vertices\n",
    "    for i in range(g1.Vertices):\n",
    "        status[i]='unseen'\n",
    "    status[s] = 'intree'\n",
    "    bw[s] = 9999\n",
    "    H = MaxHeap_locate()\n",
    "    for v in g1.LinkedList[s]:\n",
    "        status[v] = 'fringe'\n",
    "        bw[v] = g1.Weight[s,v]\n",
    "        dad[v] = s\n",
    "        H.push((bw[v],v))\n",
    "    while H.heap!=[(0,-1)]:\n",
    "            v = H.peek()[1]\n",
    "            H.pop()\n",
    "            status[v] = 'intree'\n",
    "            if v ==t:\n",
    "                return bw[v]\n",
    "            for w in g1.LinkedList[v]:\n",
    "                if status[w]=='unseen':\n",
    "                    status[w] = 'fringe'\n",
    "                    dad[w]=v\n",
    "                    bw[w]=min(bw[v],g1.Weight[v,w])\n",
    "                    H.push((bw[w],w))\n",
    "                elif status[w]=='fringe' and bw[w]<min(bw[v],g1.Weight[v,w]):\n",
    "                    H.delete(w)\n",
    "                    dad[w]=v\n",
    "                    bw[w]=min(bw[v],g1.Weight[v,w])\n",
    "                    H.push((bw[w],w))"
   ]
  },
  {
   "cell_type": "markdown",
   "metadata": {},
   "source": [
    "#### To test the performance of algorithm 2, we use the 5 spase graphs, and perform the task of finding MBP for 5 random s and t pairs\n",
    "-  We show the run time for all 25 combinations (5 graphs x 5 random s,t paris)\n",
    "-  The average run time of algorithm1 on sparse graph is 0.2 seconds"
   ]
  },
  {
   "cell_type": "code",
   "execution_count": 160,
   "metadata": {},
   "outputs": [
    {
     "name": "stdout",
     "output_type": "stream",
     "text": [
      "The average running time is 0.2087201499938965 seconds\n"
     ]
    },
    {
     "data": {
      "image/png": "[encoded data removed]",
      "text/plain": [
       "<Figure size 432x288 with 1 Axes>"
      ]
     },
     "metadata": {
      "needs_background": "light"
     },
     "output_type": "display_data"
    }
   ],
   "source": [
    "time_list = []\n",
    "for g in sparse_graphs:\n",
    "    for i in range(5):\n",
    "        s = random.randrange(5000)\n",
    "        t = random.randrange(5000)\n",
    "        while s == t:\n",
    "            t = random.randrange(5000)\n",
    "        t0 = time.time()\n",
    "        Maxbw = MaxHeap_Dijkstra(g,s,t)\n",
    "        t1 = time.time()\n",
    "        total = t1-t0\n",
    "        time_list.append(total)\n",
    "plt.plot(time_list)\n",
    "print('The average running time is {} seconds'.format(np.mean(time_list)))"
   ]
  },
  {
   "cell_type": "markdown",
   "metadata": {},
   "source": [
    "#### To test the performance of algorithm 2, we use the 5 dense graphs, and perform the task of finding MBP for 5 random s and t pairs\n",
    "-  We show the run time for all 25 combinations (5 graphs x 5 random s,t paris)\n",
    "-  The average run time of algorithm1 on sparse graph is 7.4 seconds"
   ]
  },
  {
   "cell_type": "code",
   "execution_count": 162,
   "metadata": {},
   "outputs": [
    {
     "name": "stdout",
     "output_type": "stream",
     "text": [
      "The average running time is 7.445741939544678 seconds\n"
     ]
    },
    {
     "data": {
      "image/png": "[encoded data removed]",
      "text/plain": [
       "<Figure size 432x288 with 1 Axes>"
      ]
     },
     "metadata": {
      "needs_background": "light"
     },
     "output_type": "display_data"
    }
   ],
   "source": [
    "time_list = []\n",
    "for g in dense_graphs:\n",
    "    for i in range(5):\n",
    "        s = random.randrange(5000)\n",
    "        t = random.randrange(5000)\n",
    "        #print(s,t)\n",
    "        while s == t:\n",
    "            t = random.randrange(5000)\n",
    "        t0 = time.time()\n",
    "        Maxbw = MaxHeap_Dijkstra(g,s,t)\n",
    "        t1 = time.time()\n",
    "        total = t1-t0\n",
    "        time_list.append(total)\n",
    "        #print(i)\n",
    "plt.plot(time_list)\n",
    "print('The average running time is {} seconds'.format(np.mean(time_list)))"
   ]
  },
  {
   "cell_type": "markdown",
   "metadata": {},
   "source": [
    "## Algorithm 3: \n",
    "#### Modify the HeapSort structure for Kruskal algorithm, the time complexity is $O(mlog(m)$)"
   ]
  },
  {
   "cell_type": "code",
   "execution_count": 163,
   "metadata": {},
   "outputs": [],
   "source": [
    "class HeapSort:\n",
    "    def __init__(self,items = []):\n",
    "        super().__init__() # calling parent __init__\n",
    "        self.heap = [(0,-1,-1)]\n",
    "        for i in items:\n",
    "            self.heap.append(i)\n",
    "            self.__floatUp(len(self.heap)-1)\n",
    "            \n",
    "    def push(self, data):\n",
    "        self.heap.append(data)\n",
    "        self.__floatUp(len(self.heap) - 1)\n",
    "        \n",
    "    def peek(self):\n",
    "        if self.heap[1]:\n",
    "            return self.heap[1]\n",
    "        else:\n",
    "            return False\n",
    "            \n",
    "    def pop(self):\n",
    "        if len(self.heap)>2:\n",
    "            self.__swap(1,len(self.heap)-1)\n",
    "            max = self.heap.pop() # remove the last on the list\n",
    "            self.__bubbleDown(1)\n",
    "            \n",
    "        elif len(self.heap) ==2:\n",
    "            max = self.heap.pop()\n",
    "        else:\n",
    "            max = False\n",
    "        return max\n",
    "  \n",
    "    def __swap(self,i,j): # __internal functions\n",
    "        self.heap[i],self.heap[j] = self.heap[j],self.heap[i]\n",
    "    \n",
    "    def __floatUp(self,index):\n",
    "        parent = index//2 # '//' floor division\n",
    "        if index <= 1:\n",
    "            return\n",
    "        elif self.heap[index][0]>self.heap[parent][0]:\n",
    "            self.__swap(index,parent)\n",
    "            self.__floatUp(parent)\n",
    "        \n",
    "    def __bubbleDown(self, index):\n",
    "        left = index *2\n",
    "        right = index*2 +1\n",
    "        largest = index\n",
    "        if len(self.heap)>left and self.heap[largest][0]<self.heap[left][0]:\n",
    "            largest = left\n",
    "        if len(self.heap)>right and self.heap[largest][0] < self.heap[right][0]:\n",
    "            largest = right\n",
    "        if largest !=index:\n",
    "            self.__swap(index,largest)\n",
    "            self.__bubbleDown(largest)"
   ]
  },
  {
   "cell_type": "markdown",
   "metadata": {},
   "source": [
    "#### Next, we define the Union-Find methods. In the Union method, we try to limit the high of tree by recording the rank of r1 and r2. The root with higher rank became parent of the other root"
   ]
  },
  {
   "cell_type": "code",
   "execution_count": 167,
   "metadata": {},
   "outputs": [],
   "source": [
    "def Find(v,P):\n",
    "    cur = v\n",
    "    while P[cur]!=-1:\n",
    "        cur = P[cur]\n",
    "    return cur\n",
    "def Union(r1,r2,P,rank):\n",
    "    if rank[r1]>rank[r2]:\n",
    "        P[r2]=r1\n",
    "    elif rank[r1]<rank[r2]:\n",
    "        P[r1]=r2\n",
    "    else:\n",
    "        P[r1]=r2\n",
    "        rank[r2]=rank[r2]+1"
   ]
  },
  {
   "cell_type": "markdown",
   "metadata": {},
   "source": [
    "#### Since the Kuskal algorithm only generate the max spanning tree, we need to travers the tree from s to t to find the maximum bandwidth path. We define the DFS method to traverse through the tree from s to t"
   ]
  },
  {
   "cell_type": "code",
   "execution_count": 164,
   "metadata": {},
   "outputs": [],
   "source": [
    "def DFS_main(T,s,g1,t):\n",
    "    dad = [-1]*g1.Vertices\n",
    "    visited=[False]*g1.Vertices\n",
    "    MBP = [0]*g1.Vertices\n",
    "    MBP[s]=9999\n",
    "    DFS(T,s,visited,dad,g1,MBP,t)\n",
    "    #print (MBP)\n",
    "    return MBP[t]\n",
    "\n",
    "def DFS(T,v,visited,dad,g1,MBP,t):\n",
    "    visited[v]=True\n",
    "    for w in T[v]:\n",
    "        if visited[w]==False:\n",
    "            #print(visited)\n",
    "            dad[w]=v\n",
    "            MBP[w]=min(MBP[v],g1.Weight[w,v])\n",
    "            if w ==t:\n",
    "                return MBP[w]\n",
    "            else:\n",
    "                DFS(T,w,visited,dad,g1,MBP,t)"
   ]
  },
  {
   "cell_type": "code",
   "execution_count": 165,
   "metadata": {},
   "outputs": [],
   "source": [
    "def Kruskal(g1,s,t):\n",
    "    hs = HeapSort()\n",
    "    for pair in g1.Weight:\n",
    "        if pair[0]< pair[1]:\n",
    "            _w = g1.Weight[pair[0],pair[1]]\n",
    "            hs.push((_w,pair[0],pair[1]))\n",
    "    #Make set v\n",
    "    P = [-1]*g1.Vertices\n",
    "    rank = [0]*g1.Vertices\n",
    "    T = collections.defaultdict(set)\n",
    "    while hs.heap != [(0,-1,-1)]:\n",
    "        ei = hs.pop()\n",
    "        ui,vi = ei[1],ei[2]\n",
    "        r1 = Find(ui,P)\n",
    "        r2 = Find(vi,P)\n",
    "        if r1!=r2:\n",
    "            Union(r1,r2,P,rank)\n",
    "            T[ui].add(vi)\n",
    "            T[vi].add(ui)\n",
    "    mbp= DFS_main(T,1,g1,5)\n",
    "    return mbp"
   ]
  },
  {
   "cell_type": "markdown",
   "metadata": {},
   "source": [
    "#### To test the performance of algorithm 3, we use the 5 spase graphs, and perform the task of finding MBP for 5 random s and t pairs\n",
    "-  We show the run time for all 25 combinations (5 graphs x 5 random s,t paris)\n",
    "-  The average run time of algorithm1 on sparse graph is 0.5 seconds"
   ]
  },
  {
   "cell_type": "code",
   "execution_count": 168,
   "metadata": {},
   "outputs": [
    {
     "name": "stdout",
     "output_type": "stream",
     "text": [
      "The average running time is 0.49441319465637207 seconds\n"
     ]
    },
    {
     "data": {
      "image/png": "[encoded data removed]",
      "text/plain": [
       "<Figure size 432x288 with 1 Axes>"
      ]
     },
     "metadata": {
      "needs_background": "light"
     },
     "output_type": "display_data"
    }
   ],
   "source": [
    "time_list = []\n",
    "for g in sparse_graphs:\n",
    "    for i in range(5):\n",
    "        s = random.randrange(5000)\n",
    "        t = random.randrange(5000)\n",
    "        #print(s,t)\n",
    "        while s == t:\n",
    "            t = random.randrange(5000)\n",
    "        t0 = time.time()\n",
    "        Maxbw = Kruskal(g,s,t)\n",
    "        t1 = time.time()\n",
    "        total = t1-t0\n",
    "        time_list.append(total)\n",
    "        #print(i)\n",
    "plt.plot(time_list)\n",
    "print('The average running time is {} seconds'.format(np.mean(time_list)))"
   ]
  },
  {
   "cell_type": "markdown",
   "metadata": {},
   "source": [
    "#### To test the performance of algorithm 3, we use the 5 dense graphs, and perform the task of finding MBP for 5 random s and t pairs\n",
    "-  We show the run time for all 25 combinations (5 graphs x 5 random s,t paris)\n",
    "-  The average run time of algorithm1 on sparse graph is 109 seconds"
   ]
  },
  {
   "cell_type": "code",
   "execution_count": 169,
   "metadata": {},
   "outputs": [
    {
     "name": "stdout",
     "output_type": "stream",
     "text": [
      "2253 870\n",
      "1341 1667\n",
      "894 4400\n",
      "462 993\n",
      "388 1411\n",
      "The average running time is 109.75749907493591 seconds\n"
     ]
    },
    {
     "data": {
      "image/png": "[encoded data removed]",
      "text/plain": [
       "<Figure size 432x288 with 1 Axes>"
      ]
     },
     "metadata": {
      "needs_background": "light"
     },
     "output_type": "display_data"
    }
   ],
   "source": [
    "time_list = []\n",
    "for g in dense_graphs:\n",
    "    for i in range(1):\n",
    "        s = random.randrange(5000)\n",
    "        t = random.randrange(5000)\n",
    "        print(s,t)\n",
    "        while s == t:\n",
    "            t = random.randrange(5000)\n",
    "        t0 = time.time()\n",
    "        Maxbw = Kruskal(g,s,t)\n",
    "        t1 = time.time()\n",
    "        total = t1-t0\n",
    "        time_list.append(total)\n",
    "        #print(i)\n",
    "plt.plot(time_list)\n",
    "print('The average running time is {} seconds'.format(np.mean(time_list)))"
   ]
  },
  {
   "cell_type": "markdown",
   "metadata": {},
   "source": [
    "## Conclusion\n",
    "#### Comparing the run time in the plot we show above, we can have the following comclusion\n",
    "- For sparse graph, where m < n, the Dijkstra with Maxheap algorithm gives the best performance. Kruskal algorithm is the second, and Dijkstra without using Maxheap is the slowest. \n",
    "- This is because without using MaxHeap, the time completity of Dijkstra is $O(n^{2})$\n",
    "- For the dense graph, where m>n, the Dijkstra with Maxheap algorithm gives the best performance. Dijkstra without Maxheap is the second, which take similar time to the first one. - This is because, when n=5000, $n^{2}$ = $2.5 * 10^{7}$\n",
    "- When m is large, where m = 5000*1000/2 = $2.5*10^6$. mlog(n) = $1*10^7$\n",
    "- Thus First 2 algorithm have similar performance in Dense graph.\n",
    "- Kruskal algorith in dense graph has the worst performance, this becase its time complexity is O(m log(m)), and in dense graph, m is large\n"
   ]
  }
 ],
 "metadata": {
  "kernelspec": {
   "display_name": "Python 3",
   "language": "python",
   "name": "python3"
  },
  "language_info": {
   "codemirror_mode": {
    "name": "ipython",
    "version": 3
   },
   "file_extension": ".py",
   "mimetype": "text/x-python",
   "name": "python",
   "nbconvert_exporter": "python",
   "pygments_lexer": "ipython3",
   "version": "3.6.8"
  }
 },
 "nbformat": 4,
 "nbformat_minor": 2
}
