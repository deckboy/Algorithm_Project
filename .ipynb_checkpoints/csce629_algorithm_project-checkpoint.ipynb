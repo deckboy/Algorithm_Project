{
 "cells": [
  {
   "cell_type": "code",
   "execution_count": 1,
   "metadata": {},
   "outputs": [],
   "source": [
    "import collections\n",
    "import random\n",
    "import numpy as np\n",
    "import matplotlib.pyplot as plt"
   ]
  },
  {
   "cell_type": "code",
   "execution_count": 2,
   "metadata": {},
   "outputs": [],
   "source": [
    "class Graph:\n",
    "    def __init__(self,x):\n",
    "        self.Vertices = x\n",
    "        self.Weight = collections.defaultdict(int)\n",
    "        self.LinkedList = collections.defaultdict(set)\n",
    "        self.Edges = x-1\n",
    "        for i in range(x-1):\n",
    "            self.LinkedList[i].add(i+1)\n",
    "            self.LinkedList[i+1].add(i)\n",
    "            _w = random.randrange(1,100) \n",
    "            self.Weight[tuple([i,i+1])] = _w\n",
    "            self.Weight[tuple([i+1,i])] = _w\n",
    "\n",
    "    def sparse_graph(self):\n",
    "        total_edges = self.Vertices*3\n",
    "        #print(total_edges)\n",
    "        while self.Edges < total_edges:\n",
    "            v = random.randrange(self.Vertices)\n",
    "            w = random.randrange(self.Vertices)\n",
    "            if v != w and w not in self.LinkedList[v]:\n",
    "                #print(v,w)\n",
    "                self.LinkedList[v].add(w)\n",
    "                self.LinkedList[w].add(v)\n",
    "                self.Edges +=1\n",
    "                #print(self.Edges)\n",
    "                _w = random.randrange(1,100) \n",
    "                self.Weight[tuple([v,w])] = _w\n",
    "                self.Weight[tuple([w,v])] = _w\n",
    "                    \n",
    "    def dense_graph(self):\n",
    "        for v in range(self.Vertices):\n",
    "            for w in range(v+1,self.Vertices):\n",
    "                if w not in self.LinkedList[v] and random.uniform(0,1)<=0.2:\n",
    "                    self.LinkedList[v].add(w)\n",
    "                    self.LinkedList[w].add(v)\n",
    "                    self.Edges +=1    \n",
    "                    _w = random.randrange(1,100) \n",
    "                    self.Weight[tuple([v,w])] = _w\n",
    "                    self.Weight[tuple([w,v])] = _w"
   ]
  },
  {
   "cell_type": "code",
   "execution_count": 44,
   "metadata": {},
   "outputs": [
    {
     "name": "stdout",
     "output_type": "stream",
     "text": [
      "30 10\n"
     ]
    },
    {
     "data": {
      "text/plain": [
       "defaultdict(set,\n",
       "            {0: {1, 2, 3, 4, 5, 6, 9},\n",
       "             1: {0, 2, 3, 9},\n",
       "             2: {0, 1, 3, 6, 7, 8},\n",
       "             3: {0, 1, 2, 4, 6, 7, 9},\n",
       "             4: {0, 3, 5, 6, 8, 9},\n",
       "             5: {0, 4, 6, 8, 9},\n",
       "             6: {0, 2, 3, 4, 5, 7, 9},\n",
       "             7: {2, 3, 6, 8, 9},\n",
       "             8: {2, 4, 5, 7, 9},\n",
       "             9: {0, 1, 3, 4, 5, 6, 7, 8}})"
      ]
     },
     "execution_count": 44,
     "metadata": {},
     "output_type": "execute_result"
    }
   ],
   "source": [
    "g1 = Graph(10)\n",
    "g1.sparse_graph()\n",
    "print(g1.Edges,g1.Vertices)\n",
    "g1.Weight\n",
    "g1.LinkedList"
   ]
  },
  {
   "cell_type": "code",
   "execution_count": 108,
   "metadata": {},
   "outputs": [
    {
     "name": "stdout",
     "output_type": "stream",
     "text": [
      "282 50\n"
     ]
    },
    {
     "data": {
      "text/plain": [
       "300"
      ]
     },
     "execution_count": 108,
     "metadata": {},
     "output_type": "execute_result"
    }
   ],
   "source": [
    "g2 = Graph(50)\n",
    "g2.dense_graph()\n",
    "print(g2.Edges,g2.Vertices)\n",
    "len(g1.Weight)"
   ]
  },
  {
   "cell_type": "code",
   "execution_count": 109,
   "metadata": {},
   "outputs": [
    {
     "data": {
      "text/plain": [
       "(array([ 0.,  0.,  0.,  5.,  7., 10.,  9.,  8.,  5.,  5.,  0.,  1.]),\n",
       " array([ 0.,  1.,  2.,  3.,  4.,  5.,  6.,  7.,  8.,  9., 10., 11., 12.]),\n",
       " <a list of 12 Patch objects>)"
      ]
     },
     "execution_count": 109,
     "metadata": {},
     "output_type": "execute_result"
    },
    {
     "data": {
      "image/png": "[encoded data removed]",
      "text/plain": [
       "<Figure size 432x288 with 1 Axes>"
      ]
     },
     "metadata": {
      "needs_background": "light"
     },
     "output_type": "display_data"
    }
   ],
   "source": [
    "a = []\n",
    "for key in g1.LinkedList:\n",
    "    a.append(len(g1.LinkedList[key]))\n",
    "    \n",
    "plt.hist(a, bins = np.linspace(0,12,13))"
   ]
  },
  {
   "cell_type": "code",
   "execution_count": 111,
   "metadata": {
    "scrolled": true
   },
   "outputs": [
    {
     "data": {
      "text/plain": [
       "(array([ 0., 23., 24.,  3.,  0.,  0.,  0.,  0.,  0.]),\n",
       " array([ 0.        ,  5.55555556, 11.11111111, 16.66666667, 22.22222222,\n",
       "        27.77777778, 33.33333333, 38.88888889, 44.44444444, 50.        ]),\n",
       " <a list of 9 Patch objects>)"
      ]
     },
     "execution_count": 111,
     "metadata": {},
     "output_type": "execute_result"
    },
    {
     "data": {
      "image/png": "[encoded data removed]",
      "text/plain": [
       "<Figure size 432x288 with 1 Axes>"
      ]
     },
     "metadata": {
      "needs_background": "light"
     },
     "output_type": "display_data"
    }
   ],
   "source": [
    "a = []\n",
    "for key in g2.LinkedList:\n",
    "    a.append(len(g2.LinkedList[key]))\n",
    "    \n",
    "plt.hist(a, bins = np.linspace(0,50,10))"
   ]
  },
  {
   "cell_type": "markdown",
   "metadata": {},
   "source": [
    "#### Dijkstra Algorithm"
   ]
  },
  {
   "cell_type": "code",
   "execution_count": 4,
   "metadata": {},
   "outputs": [],
   "source": [
    " def Dijkstra_n2(g1,s):\n",
    "    status =[0]*g1.Vertices\n",
    "    bw = [0]*g1.Vertices\n",
    "    dad = [-1]*g1.Vertices\n",
    "    for i in range(g1.Vertices):\n",
    "        status[i]='unseen'\n",
    "    status[s] = 'intree'\n",
    "    bw[s] = 9999\n",
    "    for v in g1.LinkedList[s]:\n",
    "        status[v] = 'fringe'\n",
    "        bw[v] = g1.Weight[s,v]\n",
    "        dad[v] = s\n",
    "    while 'fringe' in status:\n",
    "        max_bw = 0\n",
    "        for i in range(len(status)):\n",
    "            if status[i]=='fringe' and bw[i]>max_bw:\n",
    "                max_bw = bw[i]\n",
    "                idx = i\n",
    "        v = idx\n",
    "        status[v] = 'intree'\n",
    "        for w in g1.LinkedList[v]:\n",
    "            if status[w]=='unseen':\n",
    "                status[w] = 'fringe'\n",
    "                dad[w]=v\n",
    "                bw[w]=min(bw[v],g1.Weight[v,w])\n",
    "            elif status[w]=='fringe' and bw[w]<min(bw[v],g1.Weight[v,w]):\n",
    "                dad[w]=v\n",
    "                bw[w]=min(bw[v],g1.Weight[v,w])\n",
    "    return bw,dad"
   ]
  },
  {
   "cell_type": "code",
   "execution_count": 5,
   "metadata": {},
   "outputs": [],
   "source": [
    "Maxbw, Route = Dijkstra_n2(g1,1)"
   ]
  },
  {
   "cell_type": "code",
   "execution_count": 6,
   "metadata": {},
   "outputs": [
    {
     "data": {
      "text/plain": [
       "[73, 9999, 75, 75, 72, 75, 75, 75, 83, 86]"
      ]
     },
     "execution_count": 6,
     "metadata": {},
     "output_type": "execute_result"
    }
   ],
   "source": [
    "Maxbw"
   ]
  },
  {
   "cell_type": "code",
   "execution_count": 7,
   "metadata": {},
   "outputs": [
    {
     "data": {
      "text/plain": [
       "[5, -1, 3, 5, 1, 8, 5, 3, 9, 1]"
      ]
     },
     "execution_count": 7,
     "metadata": {},
     "output_type": "execute_result"
    }
   ],
   "source": [
    "Route"
   ]
  },
  {
   "cell_type": "code",
   "execution_count": 231,
   "metadata": {},
   "outputs": [
    {
     "data": {
      "text/plain": [
       "defaultdict(int,\n",
       "            {(0, 1): 41,\n",
       "             (1, 0): 41,\n",
       "             (1, 2): 98,\n",
       "             (2, 1): 98,\n",
       "             (2, 3): 77,\n",
       "             (3, 2): 77,\n",
       "             (3, 4): 5,\n",
       "             (4, 3): 5,\n",
       "             (4, 5): 78,\n",
       "             (5, 4): 78,\n",
       "             (0, 4): 28,\n",
       "             (4, 0): 28,\n",
       "             (2, 0): 49,\n",
       "             (0, 2): 49,\n",
       "             (1, 5): 78,\n",
       "             (5, 1): 78,\n",
       "             (5, 3): 63,\n",
       "             (3, 5): 63,\n",
       "             (3, 1): 93,\n",
       "             (1, 3): 93,\n",
       "             (0, 3): 27,\n",
       "             (3, 0): 27,\n",
       "             (2, 4): 38,\n",
       "             (4, 2): 38})"
      ]
     },
     "execution_count": 231,
     "metadata": {},
     "output_type": "execute_result"
    }
   ],
   "source": [
    "g1.Weight"
   ]
  },
  {
   "cell_type": "code",
   "execution_count": 219,
   "metadata": {},
   "outputs": [
    {
     "data": {
      "text/plain": [
       "defaultdict(set,\n",
       "            {0: {1, 2, 3, 4},\n",
       "             1: {0, 2, 3, 5},\n",
       "             2: {0, 1, 3, 4},\n",
       "             3: {0, 1, 2, 4, 5},\n",
       "             4: {0, 2, 3, 5},\n",
       "             5: {1, 3, 4}})"
      ]
     },
     "execution_count": 219,
     "metadata": {},
     "output_type": "execute_result"
    }
   ],
   "source": [
    "g1.LinkedList"
   ]
  },
  {
   "cell_type": "code",
   "execution_count": 221,
   "metadata": {},
   "outputs": [
    {
     "data": {
      "text/plain": [
       "['intree', 'intree', 'intree', 'intree', 'intree', 'intree']"
      ]
     },
     "execution_count": 221,
     "metadata": {},
     "output_type": "execute_result"
    }
   ],
   "source": [
    "status"
   ]
  },
  {
   "cell_type": "code",
   "execution_count": 13,
   "metadata": {},
   "outputs": [],
   "source": [
    "class MaxHeap:\n",
    "    def __init__(self,items = []):\n",
    "        super().__init__() # calling parent __init__\n",
    "        self.heap = [(0,-1)]\n",
    "        for i in items:\n",
    "            self.heap.append(i)\n",
    "            self.__floatUp(len(self.heap)-1)\n",
    "            \n",
    "    def push(self, data):\n",
    "        self.heap.append(data)\n",
    "        self.__floatUp(len(self.heap) - 1)\n",
    "        \n",
    "    def peek(self):\n",
    "        if self.heap[1]:\n",
    "            return self.heap[1]\n",
    "        else:\n",
    "            return False\n",
    "            \n",
    "    def pop(self):\n",
    "        if len(self.heap)>2:\n",
    "            self.__swap(1,len(self.heap)-1)\n",
    "            max = self.heap.pop() # remove the last on the list\n",
    "            self.__bubbleDown(1)\n",
    "            \n",
    "        elif len(self.heap) ==2:\n",
    "            max = self.heap.pop()\n",
    "        else:\n",
    "            max = False\n",
    "        return max\n",
    "    \n",
    "    def delete(self,w):\n",
    "        for i in range(len(self.heap)):\n",
    "            if self.heap[i][1] ==w:\n",
    "                self.__swap(i,len(self.heap)-1)\n",
    "                self.__bubbleDown(i)     \n",
    "        \n",
    "    def __swap(self,i,j): # __internal functions\n",
    "        self.heap[i],self.heap[j] = self.heap[j],self.heap[i]\n",
    "    \n",
    "    def __floatUp(self,index):\n",
    "        parent = index//2 # '//' floor division\n",
    "        if index <= 1:\n",
    "            return\n",
    "        elif self.heap[index][0]>self.heap[parent][0]:\n",
    "            self.__swap(index,parent)\n",
    "            self.__floatUp(parent)\n",
    "        \n",
    "    def __bubbleDown(self, index):\n",
    "        left = index *2\n",
    "        right = index*2 +1\n",
    "        largest = index\n",
    "        if len(self.heap)>left and self.heap[largest][0]<self.heap[left][0]:\n",
    "            largest = left\n",
    "        if len(self.heap)>right and self.heap[largest][0] < self.heap[right][0]:\n",
    "            largest = right\n",
    "        if largest !=index:\n",
    "            self.__swap(index,largest)\n",
    "            self.__bubbleDown(largest)"
   ]
  },
  {
   "cell_type": "markdown",
   "metadata": {},
   "source": [
    "#### Dijkstra with MaxHeap"
   ]
  },
  {
   "cell_type": "code",
   "execution_count": 14,
   "metadata": {},
   "outputs": [],
   "source": [
    "def MaxHeap_Dijkstra(g1,s):\n",
    "    status =[0]*g1.Vertices\n",
    "    bw = [0]*g1.Vertices\n",
    "    dad = [-1]*g1.Vertices\n",
    "    for i in range(g1.Vertices):\n",
    "        status[i]='unseen'\n",
    "    status[s] = 'intree'\n",
    "    bw[s] = 9999\n",
    "    H = MaxHeap()\n",
    "    for v in g1.LinkedList[s]:\n",
    "        status[v] = 'fringe'\n",
    "        bw[v] = g1.Weight[s,v]\n",
    "        dad[v] = s\n",
    "        H.push((bw[v],v))\n",
    "    while H.heap!=[(0,-1)]:\n",
    "            v = H.peek()[1]\n",
    "            H.pop()\n",
    "            status[v] = 'intree'\n",
    "            for w in g1.LinkedList[v]:\n",
    "                if status[w]=='unseen':\n",
    "                    status[w] = 'fringe'\n",
    "                    dad[w]=v\n",
    "                    bw[w]=min(bw[v],g1.Weight[v,w])\n",
    "                    H.push((bw[w],w))\n",
    "                elif status[w]=='fringe' and bw[w]<min(bw[v],g1.Weight[v,w]):\n",
    "                    H.delete(w)\n",
    "                    dad[w]=v\n",
    "                    bw[w]=min(bw[v],g1.Weight[v,w])\n",
    "                    H.push((bw[w],w))\n",
    "    return bw,dad"
   ]
  },
  {
   "cell_type": "code",
   "execution_count": 120,
   "metadata": {},
   "outputs": [],
   "source": [
    "bw,dad = MaxHeap_Dijkstra(g1,1)"
   ]
  },
  {
   "cell_type": "code",
   "execution_count": 122,
   "metadata": {},
   "outputs": [
    {
     "data": {
      "text/plain": [
       "[75, 9999, 75, 75, 75, 75, 75, 75, 75, 75]"
      ]
     },
     "execution_count": 122,
     "metadata": {},
     "output_type": "execute_result"
    }
   ],
   "source": [
    "bw"
   ]
  },
  {
   "cell_type": "code",
   "execution_count": 121,
   "metadata": {},
   "outputs": [
    {
     "data": {
      "text/plain": [
       "[1, -1, 3, 0, 0, 4, 4, 3, 7, 0]"
      ]
     },
     "execution_count": 121,
     "metadata": {},
     "output_type": "execute_result"
    }
   ],
   "source": [
    "dad"
   ]
  },
  {
   "cell_type": "markdown",
   "metadata": {},
   "source": [
    "#### Kruskal algorithm"
   ]
  },
  {
   "cell_type": "code",
   "execution_count": 57,
   "metadata": {},
   "outputs": [],
   "source": [
    "class HeapSort:\n",
    "    def __init__(self,items = []):\n",
    "        super().__init__() # calling parent __init__\n",
    "        self.heap = [(0,-1,-1)]\n",
    "        for i in items:\n",
    "            self.heap.append(i)\n",
    "            self.__floatUp(len(self.heap)-1)\n",
    "            \n",
    "    def push(self, data):\n",
    "        self.heap.append(data)\n",
    "        self.__floatUp(len(self.heap) - 1)\n",
    "        \n",
    "    def peek(self):\n",
    "        if self.heap[1]:\n",
    "            return self.heap[1]\n",
    "        else:\n",
    "            return False\n",
    "            \n",
    "    def pop(self):\n",
    "        if len(self.heap)>2:\n",
    "            self.__swap(1,len(self.heap)-1)\n",
    "            max = self.heap.pop() # remove the last on the list\n",
    "            self.__bubbleDown(1)\n",
    "            \n",
    "        elif len(self.heap) ==2:\n",
    "            max = self.heap.pop()\n",
    "        else:\n",
    "            max = False\n",
    "        return max\n",
    "    ''' obsolete\n",
    "    def delete(self,w):\n",
    "        for i in range(len(self.heap)):\n",
    "            if self.heap[i][1] ==w:\n",
    "                self.__swap(i,len(self.heap)-1)\n",
    "                self.__bubbleDown(i)     \n",
    "    '''   \n",
    "    def __swap(self,i,j): # __internal functions\n",
    "        self.heap[i],self.heap[j] = self.heap[j],self.heap[i]\n",
    "    \n",
    "    def __floatUp(self,index):\n",
    "        parent = index//2 # '//' floor division\n",
    "        if index <= 1:\n",
    "            return\n",
    "        elif self.heap[index][0]>self.heap[parent][0]:\n",
    "            self.__swap(index,parent)\n",
    "            self.__floatUp(parent)\n",
    "        \n",
    "    def __bubbleDown(self, index):\n",
    "        left = index *2\n",
    "        right = index*2 +1\n",
    "        largest = index\n",
    "        if len(self.heap)>left and self.heap[largest][0]<self.heap[left][0]:\n",
    "            largest = left\n",
    "        if len(self.heap)>right and self.heap[largest][0] < self.heap[right][0]:\n",
    "            largest = right\n",
    "        if largest !=index:\n",
    "            self.__swap(index,largest)\n",
    "            self.__bubbleDown(largest)"
   ]
  },
  {
   "cell_type": "code",
   "execution_count": 123,
   "metadata": {},
   "outputs": [
    {
     "data": {
      "text/plain": [
       "[(0, -1, -1),\n",
       " (99, 0, 3),\n",
       " (96, 0, 9),\n",
       " (96, 2, 3),\n",
       " (95, 7, 8),\n",
       " (95, 3, 4),\n",
       " (79, 5, 6),\n",
       " (81, 4, 6),\n",
       " (51, 1, 2),\n",
       " (86, 0, 4),\n",
       " (89, 3, 7),\n",
       " (37, 5, 9),\n",
       " (35, 0, 6),\n",
       " (75, 0, 1),\n",
       " (37, 2, 8),\n",
       " (54, 6, 7),\n",
       " (51, 6, 9),\n",
       " (48, 1, 9),\n",
       " (24, 8, 9),\n",
       " (34, 1, 3),\n",
       " (28, 0, 2),\n",
       " (83, 4, 5),\n",
       " (25, 3, 9),\n",
       " (28, 4, 8),\n",
       " (24, 0, 5),\n",
       " (23, 5, 8),\n",
       " (15, 2, 7),\n",
       " (53, 7, 9),\n",
       " (9, 2, 6),\n",
       " (31, 3, 6),\n",
       " (3, 4, 9)]"
      ]
     },
     "execution_count": 123,
     "metadata": {},
     "output_type": "execute_result"
    }
   ],
   "source": [
    "hs = HeapSort()\n",
    "for pair in g1.Weight:\n",
    "    if pair[0]< pair[1]:\n",
    "        _w = g1.Weight[pair[0],pair[1]]\n",
    "        hs.push((_w,pair[0],pair[1]))\n",
    "hs.heap"
   ]
  },
  {
   "cell_type": "code",
   "execution_count": 110,
   "metadata": {},
   "outputs": [
    {
     "data": {
      "text/plain": [
       "[(0, -1, -1),\n",
       " (99, 0, 3),\n",
       " (96, 0, 9),\n",
       " (96, 2, 3),\n",
       " (95, 7, 8),\n",
       " (95, 3, 4),\n",
       " (79, 5, 6),\n",
       " (81, 4, 6),\n",
       " (51, 1, 2),\n",
       " (86, 0, 4),\n",
       " (89, 3, 7),\n",
       " (37, 5, 9),\n",
       " (35, 0, 6),\n",
       " (75, 0, 1),\n",
       " (37, 2, 8),\n",
       " (54, 6, 7),\n",
       " (51, 6, 9),\n",
       " (48, 1, 9),\n",
       " (24, 8, 9),\n",
       " (34, 1, 3),\n",
       " (28, 0, 2),\n",
       " (83, 4, 5),\n",
       " (25, 3, 9),\n",
       " (28, 4, 8),\n",
       " (24, 0, 5),\n",
       " (23, 5, 8),\n",
       " (15, 2, 7),\n",
       " (53, 7, 9),\n",
       " (9, 2, 6),\n",
       " (31, 3, 6),\n",
       " (3, 4, 9)]"
      ]
     },
     "execution_count": 110,
     "metadata": {},
     "output_type": "execute_result"
    }
   ],
   "source": []
  },
  {
   "cell_type": "code",
   "execution_count": 117,
   "metadata": {},
   "outputs": [],
   "source": [
    "#Make set v\n",
    "P = [-1]*g1.Vertices\n",
    "rank = [0]*g1.Vertices\n",
    "def Find(v):\n",
    "    cur = v\n",
    "    while P[cur]!=-1:\n",
    "        cur = P[cur]\n",
    "    return cur\n",
    "def Union(r1,r2):\n",
    "    if rank[r1]>rank[r2]:\n",
    "        P[r2]=r1\n",
    "    elif rank[r1]<rank[r2]:\n",
    "        P[r1]=r2\n",
    "    else:\n",
    "        P[r1]=r2"
   ]
  },
  {
   "cell_type": "code",
   "execution_count": 127,
   "metadata": {},
   "outputs": [],
   "source": [
    "T = {}\n",
    "while hs.heap != [(0,-1,-1)]:\n",
    "    ei = hs.pop()\n",
    "    ui,vi = ei[1],ei[2]\n",
    "    r1 = Find(ui)\n",
    "    r2 = Find(vi)\n",
    "    if r1!=r2:\n",
    "        Union(r1,r2)\n",
    "    #T.update"
   ]
  },
  {
   "cell_type": "code",
   "execution_count": 128,
   "metadata": {},
   "outputs": [
    {
     "data": {
      "text/plain": [
       "[3, -1, 9, 9, 8, 6, 1, 8, 5, 4]"
      ]
     },
     "execution_count": 128,
     "metadata": {},
     "output_type": "execute_result"
    }
   ],
   "source": [
    "P"
   ]
  },
  {
   "cell_type": "code",
   "execution_count": 295,
   "metadata": {},
   "outputs": [
    {
     "data": {
      "text/plain": [
       "[9999, 49, 49, 49, 38, 49]"
      ]
     },
     "execution_count": 295,
     "metadata": {},
     "output_type": "execute_result"
    }
   ],
   "source": [
    "bw"
   ]
  },
  {
   "cell_type": "code",
   "execution_count": 265,
   "metadata": {},
   "outputs": [
    {
     "data": {
      "text/plain": [
       "[-1, 2, 0, 2, 2, 1]"
      ]
     },
     "execution_count": 265,
     "metadata": {},
     "output_type": "execute_result"
    }
   ],
   "source": [
    "dad"
   ]
  },
  {
   "cell_type": "code",
   "execution_count": 278,
   "metadata": {},
   "outputs": [
    {
     "data": {
      "text/plain": [
       "[(0, 0), (49, 2), (41, 1), (27, 3), (28, 4)]"
      ]
     },
     "execution_count": 278,
     "metadata": {},
     "output_type": "execute_result"
    }
   ],
   "source": [
    "H.heap"
   ]
  },
  {
   "cell_type": "code",
   "execution_count": 283,
   "metadata": {},
   "outputs": [
    {
     "name": "stdout",
     "output_type": "stream",
     "text": [
      "0\n",
      "2\n",
      "1\n",
      "3\n",
      "4\n"
     ]
    }
   ],
   "source": [
    "for i in range(len(H.heap)):\n",
    "    print(H.heap[i][1])"
   ]
  }
 ],
 "metadata": {
  "kernelspec": {
   "display_name": "Python 3",
   "language": "python",
   "name": "python3"
  },
  "language_info": {
   "codemirror_mode": {
    "name": "ipython",
    "version": 3
   },
   "file_extension": ".py",
   "mimetype": "text/x-python",
   "name": "python",
   "nbconvert_exporter": "python",
   "pygments_lexer": "ipython3",
   "version": "3.6.8"
  }
 },
 "nbformat": 4,
 "nbformat_minor": 2
}
