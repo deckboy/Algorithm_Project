{
 "cells": [
  {
   "cell_type": "markdown",
   "metadata": {},
   "source": [
    "<h1><center>Spring 2019CSCE-629 Project</center></h1>\n",
    "<div style=\"text-align: center\"> Rui Kou, 923006438 </div>\n",
    "\n",
    "\n",
    "\n"
   ]
  },
  {
   "cell_type": "code",
   "execution_count": 13,
   "metadata": {},
   "outputs": [],
   "source": [
    "import collections\n",
    "import random\n",
    "import numpy as np\n",
    "import matplotlib.pyplot as plt\n",
    "import time"
   ]
  },
  {
   "cell_type": "markdown",
   "metadata": {},
   "source": [
    "#### Define Graph using Linkedlist data structure and generating sparse and dense graph"
   ]
  },
  {
   "cell_type": "code",
   "execution_count": 2,
   "metadata": {},
   "outputs": [],
   "source": [
    "class Graph:\n",
    "    def __init__(self,x):\n",
    "        self.Vertices = x\n",
    "        self.Weight = collections.defaultdict(int)\n",
    "        self.LinkedList = collections.defaultdict(set)\n",
    "        self.Edges = x-1\n",
    "        for i in range(x-1):\n",
    "            self.LinkedList[i].add(i+1)\n",
    "            self.LinkedList[i+1].add(i)\n",
    "            _w = random.randrange(1,100) \n",
    "            self.Weight[tuple([i,i+1])] = _w\n",
    "            self.Weight[tuple([i+1,i])] = _w\n",
    "\n",
    "    def sparse_graph(self):\n",
    "        total_edges = self.Vertices*3\n",
    "        #print(total_edges)\n",
    "        while self.Edges < total_edges:\n",
    "            v = random.randrange(self.Vertices)\n",
    "            w = random.randrange(self.Vertices)\n",
    "            if v != w and w not in self.LinkedList[v]:\n",
    "                #print(v,w)\n",
    "                self.LinkedList[v].add(w)\n",
    "                self.LinkedList[w].add(v)\n",
    "                self.Edges +=1\n",
    "                #print(self.Edges)\n",
    "                _w = random.randrange(1,100) \n",
    "                self.Weight[tuple([v,w])] = _w\n",
    "                self.Weight[tuple([w,v])] = _w\n",
    "                    \n",
    "    def dense_graph(self):\n",
    "        for v in range(self.Vertices):\n",
    "            for w in range(v+1,self.Vertices):\n",
    "                if w not in self.LinkedList[v] and random.uniform(0,1)<=0.2:\n",
    "                    self.LinkedList[v].add(w)\n",
    "                    self.LinkedList[w].add(v)\n",
    "                    self.Edges +=1    \n",
    "                    _w = random.randrange(1,100) \n",
    "                    self.Weight[tuple([v,w])] = _w\n",
    "                    self.Weight[tuple([w,v])] = _w"
   ]
  },
  {
   "cell_type": "markdown",
   "metadata": {},
   "source": [
    "#### Generating 5 sparse graph with average vertex degree of 6"
   ]
  },
  {
   "cell_type": "code",
   "execution_count": 8,
   "metadata": {},
   "outputs": [],
   "source": [
    "g1_s = Graph(5000)\n",
    "g1_s.sparse_graph()\n",
    "\n",
    "g2_s = Graph(5000)\n",
    "g2_s.sparse_graph()\n",
    "\n",
    "g3_s = Graph(5000)\n",
    "g3_s.sparse_graph()\n",
    "\n",
    "g4_s = Graph(5000)\n",
    "g4_s.sparse_graph()\n",
    "\n",
    "g5_s = Graph(5000)\n",
    "g5_s.sparse_graph()"
   ]
  },
  {
   "cell_type": "markdown",
   "metadata": {},
   "source": [
    "#### Generate 5 dense graphs, in which each vertex is adjacent to 20% of other vertices"
   ]
  },
  {
   "cell_type": "code",
   "execution_count": 9,
   "metadata": {},
   "outputs": [],
   "source": [
    "g1_d = Graph(5000)\n",
    "g1_d.dense_graph()\n",
    "\n",
    "g2_d = Graph(5000)\n",
    "g2_d.dense_graph()\n",
    "\n",
    "g3_d = Graph(5000)\n",
    "g3_d.dense_graph()\n",
    "\n",
    "g4_d = Graph(5000)\n",
    "g4_d.dense_graph()\n",
    "\n",
    "g5_d = Graph(5000)\n",
    "g5_d.dense_graph()"
   ]
  },
  {
   "cell_type": "markdown",
   "metadata": {},
   "source": [
    "#### Plot number of edge distribution for sparse graph. It shows the distribution peaks at 6, which proved our implementation of sparse graph"
   ]
  },
  {
   "cell_type": "code",
   "execution_count": 10,
   "metadata": {},
   "outputs": [
    {
     "data": {
      "text/plain": [
       "(array([  0.,   0., 100., 362., 763., 934., 985., 778., 527., 280., 150.,\n",
       "        108.]),\n",
       " array([ 0.,  1.,  2.,  3.,  4.,  5.,  6.,  7.,  8.,  9., 10., 11., 12.]),\n",
       " <a list of 12 Patch objects>)"
      ]
     },
     "execution_count": 10,
     "metadata": {},
     "output_type": "execute_result"
    },
    {
     "data": {
      "image/png": "[encoded data removed]",
      "text/plain": [
       "<Figure size 432x288 with 1 Axes>"
      ]
     },
     "metadata": {
      "needs_background": "light"
     },
     "output_type": "display_data"
    }
   ],
   "source": [
    "a = []\n",
    "for key in g1_s.LinkedList:\n",
    "    a.append(len(g1_s.LinkedList[key]))\n",
    "plt.hist(a, bins = np.linspace(0,12,13))"
   ]
  },
  {
   "cell_type": "markdown",
   "metadata": {},
   "source": [
    "#### Plot number of edge distribution for dense graph. It shows the distribution peaks at 1000, which proved our implementation of dense graph"
   ]
  },
  {
   "cell_type": "code",
   "execution_count": 11,
   "metadata": {
    "scrolled": true
   },
   "outputs": [
    {
     "data": {
      "text/plain": [
       "(array([0.000e+00, 0.000e+00, 0.000e+00, 0.000e+00, 0.000e+00, 0.000e+00,\n",
       "        0.000e+00, 0.000e+00, 0.000e+00, 0.000e+00, 0.000e+00, 0.000e+00,\n",
       "        0.000e+00, 0.000e+00, 0.000e+00, 0.000e+00, 0.000e+00, 0.000e+00,\n",
       "        0.000e+00, 0.000e+00, 0.000e+00, 0.000e+00, 0.000e+00, 0.000e+00,\n",
       "        0.000e+00, 0.000e+00, 0.000e+00, 0.000e+00, 0.000e+00, 0.000e+00,\n",
       "        0.000e+00, 0.000e+00, 0.000e+00, 0.000e+00, 0.000e+00, 0.000e+00,\n",
       "        0.000e+00, 0.000e+00, 0.000e+00, 0.000e+00, 0.000e+00, 0.000e+00,\n",
       "        0.000e+00, 0.000e+00, 2.000e+00, 3.200e+01, 1.300e+02, 4.840e+02,\n",
       "        1.063e+03, 1.449e+03, 1.116e+03, 5.500e+02, 1.430e+02, 3.000e+01,\n",
       "        1.000e+00, 0.000e+00, 0.000e+00, 0.000e+00, 0.000e+00, 0.000e+00,\n",
       "        0.000e+00, 0.000e+00, 0.000e+00, 0.000e+00, 0.000e+00, 0.000e+00,\n",
       "        0.000e+00, 0.000e+00, 0.000e+00, 0.000e+00, 0.000e+00, 0.000e+00,\n",
       "        0.000e+00, 0.000e+00, 0.000e+00, 0.000e+00, 0.000e+00, 0.000e+00,\n",
       "        0.000e+00, 0.000e+00, 0.000e+00, 0.000e+00, 0.000e+00, 0.000e+00,\n",
       "        0.000e+00, 0.000e+00, 0.000e+00, 0.000e+00, 0.000e+00, 0.000e+00,\n",
       "        0.000e+00, 0.000e+00, 0.000e+00, 0.000e+00, 0.000e+00, 0.000e+00,\n",
       "        0.000e+00, 0.000e+00, 0.000e+00]),\n",
       " array([   0.        ,   20.2020202 ,   40.4040404 ,   60.60606061,\n",
       "          80.80808081,  101.01010101,  121.21212121,  141.41414141,\n",
       "         161.61616162,  181.81818182,  202.02020202,  222.22222222,\n",
       "         242.42424242,  262.62626263,  282.82828283,  303.03030303,\n",
       "         323.23232323,  343.43434343,  363.63636364,  383.83838384,\n",
       "         404.04040404,  424.24242424,  444.44444444,  464.64646465,\n",
       "         484.84848485,  505.05050505,  525.25252525,  545.45454545,\n",
       "         565.65656566,  585.85858586,  606.06060606,  626.26262626,\n",
       "         646.46464646,  666.66666667,  686.86868687,  707.07070707,\n",
       "         727.27272727,  747.47474747,  767.67676768,  787.87878788,\n",
       "         808.08080808,  828.28282828,  848.48484848,  868.68686869,\n",
       "         888.88888889,  909.09090909,  929.29292929,  949.49494949,\n",
       "         969.6969697 ,  989.8989899 , 1010.1010101 , 1030.3030303 ,\n",
       "        1050.50505051, 1070.70707071, 1090.90909091, 1111.11111111,\n",
       "        1131.31313131, 1151.51515152, 1171.71717172, 1191.91919192,\n",
       "        1212.12121212, 1232.32323232, 1252.52525253, 1272.72727273,\n",
       "        1292.92929293, 1313.13131313, 1333.33333333, 1353.53535354,\n",
       "        1373.73737374, 1393.93939394, 1414.14141414, 1434.34343434,\n",
       "        1454.54545455, 1474.74747475, 1494.94949495, 1515.15151515,\n",
       "        1535.35353535, 1555.55555556, 1575.75757576, 1595.95959596,\n",
       "        1616.16161616, 1636.36363636, 1656.56565657, 1676.76767677,\n",
       "        1696.96969697, 1717.17171717, 1737.37373737, 1757.57575758,\n",
       "        1777.77777778, 1797.97979798, 1818.18181818, 1838.38383838,\n",
       "        1858.58585859, 1878.78787879, 1898.98989899, 1919.19191919,\n",
       "        1939.39393939, 1959.5959596 , 1979.7979798 , 2000.        ]),\n",
       " <a list of 99 Patch objects>)"
      ]
     },
     "execution_count": 11,
     "metadata": {},
     "output_type": "execute_result"
    },
    {
     "data": {
      "image/png": "[encoded data removed]",
      "text/plain": [
       "<Figure size 432x288 with 1 Axes>"
      ]
     },
     "metadata": {
      "needs_background": "light"
     },
     "output_type": "display_data"
    }
   ],
   "source": [
    "a = []\n",
    "for key in g1_d.LinkedList:\n",
    "    a.append(len(g1_d.LinkedList[key]))\n",
    "plt.hist(a, bins = np.linspace(0,2000,100))"
   ]
  },
  {
   "cell_type": "markdown",
   "metadata": {},
   "source": [
    "#### Dijkstra Algorithm without using a heap structure, the time complexity is $O(n^{2}$)"
   ]
  },
  {
   "cell_type": "code",
   "execution_count": 18,
   "metadata": {},
   "outputs": [],
   "source": [
    " def Dijkstra_n2(g1,s):\n",
    "    status =[0]*g1.Vertices\n",
    "    bw = [0]*g1.Vertices\n",
    "    dad = [-1]*g1.Vertices\n",
    "    for i in range(g1.Vertices):\n",
    "        status[i]='unseen'\n",
    "    status[s] = 'intree'\n",
    "    bw[s] = 9999\n",
    "    for v in g1.LinkedList[s]:\n",
    "        status[v] = 'fringe'\n",
    "        bw[v] = g1.Weight[s,v]\n",
    "        dad[v] = s\n",
    "    while 'fringe' in status:\n",
    "        max_bw = 0\n",
    "        for i in range(len(status)):\n",
    "            if status[i]=='fringe' and bw[i]>max_bw:\n",
    "                max_bw = bw[i]\n",
    "                idx = i\n",
    "        v = idx\n",
    "        status[v] = 'intree'\n",
    "        for w in g1.LinkedList[v]:\n",
    "            if status[w]=='unseen':\n",
    "                status[w] = 'fringe'\n",
    "                dad[w]=v\n",
    "                bw[w]=min(bw[v],g1.Weight[v,w])\n",
    "            elif status[w]=='fringe' and bw[w]<min(bw[v],g1.Weight[v,w]):\n",
    "                dad[w]=v\n",
    "                bw[w]=min(bw[v],g1.Weight[v,w])\n",
    "    return bw,dad"
   ]
  },
  {
   "cell_type": "code",
   "execution_count": 19,
   "metadata": {},
   "outputs": [
    {
     "name": "stdout",
     "output_type": "stream",
     "text": [
      "4.344483137130737\n"
     ]
    }
   ],
   "source": [
    "t0 = time.time()\n",
    "Maxbw, Route = Dijkstra_n2(g1,1)\n",
    "t1 = time.time()\n",
    "total = t1-t0\n",
    "print(total)"
   ]
  },
  {
   "cell_type": "code",
   "execution_count": 15,
   "metadata": {},
   "outputs": [],
   "source": [
    "class MaxHeap:\n",
    "    def __init__(self,items = []):\n",
    "        super().__init__() # calling parent __init__\n",
    "        self.heap = [(0,-1)]\n",
    "        for i in items:\n",
    "            self.heap.append(i)\n",
    "            self.__floatUp(len(self.heap)-1)\n",
    "            \n",
    "    def push(self, data):\n",
    "        self.heap.append(data)\n",
    "        self.__floatUp(len(self.heap) - 1)\n",
    "        \n",
    "    def peek(self):\n",
    "        if self.heap[1]:\n",
    "            return self.heap[1]\n",
    "        else:\n",
    "            return False\n",
    "            \n",
    "    def pop(self):\n",
    "        if len(self.heap)>2:\n",
    "            self.__swap(1,len(self.heap)-1)\n",
    "            max = self.heap.pop() # remove the last on the list\n",
    "            self.__bubbleDown(1)\n",
    "            \n",
    "        elif len(self.heap) ==2:\n",
    "            max = self.heap.pop()\n",
    "        else:\n",
    "            max = False\n",
    "        return max\n",
    "    \n",
    "    def delete(self,w):\n",
    "        for i in range(len(self.heap)):\n",
    "            if self.heap[i][1] ==w:\n",
    "                self.__swap(i,len(self.heap)-1)\n",
    "                self.__bubbleDown(i)     \n",
    "        \n",
    "    def __swap(self,i,j): # __internal functions\n",
    "        self.heap[i],self.heap[j] = self.heap[j],self.heap[i]\n",
    "    \n",
    "    def __floatUp(self,index):\n",
    "        parent = index//2 # '//' floor division\n",
    "        if index <= 1:\n",
    "            return\n",
    "        elif self.heap[index][0]>self.heap[parent][0]:\n",
    "            self.__swap(index,parent)\n",
    "            self.__floatUp(parent)\n",
    "        \n",
    "    def __bubbleDown(self, index):\n",
    "        left = index *2\n",
    "        right = index*2 +1\n",
    "        largest = index\n",
    "        if len(self.heap)>left and self.heap[largest][0]<self.heap[left][0]:\n",
    "            largest = left\n",
    "        if len(self.heap)>right and self.heap[largest][0] < self.heap[right][0]:\n",
    "            largest = right\n",
    "        if largest !=index:\n",
    "            self.__swap(index,largest)\n",
    "            self.__bubbleDown(largest)"
   ]
  },
  {
   "cell_type": "markdown",
   "metadata": {},
   "source": [
    "#### Dijkstra with MaxHeap"
   ]
  },
  {
   "cell_type": "code",
   "execution_count": 16,
   "metadata": {},
   "outputs": [],
   "source": [
    "def MaxHeap_Dijkstra(g1,s):\n",
    "    status =[0]*g1.Vertices\n",
    "    bw = [0]*g1.Vertices\n",
    "    dad = [-1]*g1.Vertices\n",
    "    for i in range(g1.Vertices):\n",
    "        status[i]='unseen'\n",
    "    status[s] = 'intree'\n",
    "    bw[s] = 9999\n",
    "    H = MaxHeap()\n",
    "    for v in g1.LinkedList[s]:\n",
    "        status[v] = 'fringe'\n",
    "        bw[v] = g1.Weight[s,v]\n",
    "        dad[v] = s\n",
    "        H.push((bw[v],v))\n",
    "    while H.heap!=[(0,-1)]:\n",
    "            v = H.peek()[1]\n",
    "            H.pop()\n",
    "            status[v] = 'intree'\n",
    "            for w in g1.LinkedList[v]:\n",
    "                if status[w]=='unseen':\n",
    "                    status[w] = 'fringe'\n",
    "                    dad[w]=v\n",
    "                    bw[w]=min(bw[v],g1.Weight[v,w])\n",
    "                    H.push((bw[w],w))\n",
    "                elif status[w]=='fringe' and bw[w]<min(bw[v],g1.Weight[v,w]):\n",
    "                    H.delete(w)\n",
    "                    dad[w]=v\n",
    "                    bw[w]=min(bw[v],g1.Weight[v,w])\n",
    "                    H.push((bw[w],w))\n",
    "    return bw,dad"
   ]
  },
  {
   "cell_type": "code",
   "execution_count": 115,
   "metadata": {},
   "outputs": [],
   "source": [
    "bw,dad = MaxHeap_Dijkstra(g1,1)"
   ]
  },
  {
   "cell_type": "code",
   "execution_count": 116,
   "metadata": {},
   "outputs": [
    {
     "data": {
      "text/plain": [
       "[55, 9999, 55, 55, 55, 55, 55, 52, 55, 55]"
      ]
     },
     "execution_count": 116,
     "metadata": {},
     "output_type": "execute_result"
    }
   ],
   "source": [
    "bw"
   ]
  },
  {
   "cell_type": "code",
   "execution_count": 117,
   "metadata": {},
   "outputs": [
    {
     "data": {
      "text/plain": [
       "[9, -1, 3, 1, 3, 9, 2, 6, 2, 3]"
      ]
     },
     "execution_count": 117,
     "metadata": {},
     "output_type": "execute_result"
    }
   ],
   "source": [
    "dad"
   ]
  },
  {
   "cell_type": "markdown",
   "metadata": {},
   "source": [
    "#### Kruskal algorithm"
   ]
  },
  {
   "cell_type": "code",
   "execution_count": 20,
   "metadata": {},
   "outputs": [],
   "source": [
    "class HeapSort:\n",
    "    def __init__(self,items = []):\n",
    "        super().__init__() # calling parent __init__\n",
    "        self.heap = [(0,-1,-1)]\n",
    "        for i in items:\n",
    "            self.heap.append(i)\n",
    "            self.__floatUp(len(self.heap)-1)\n",
    "            \n",
    "    def push(self, data):\n",
    "        self.heap.append(data)\n",
    "        self.__floatUp(len(self.heap) - 1)\n",
    "        \n",
    "    def peek(self):\n",
    "        if self.heap[1]:\n",
    "            return self.heap[1]\n",
    "        else:\n",
    "            return False\n",
    "            \n",
    "    def pop(self):\n",
    "        if len(self.heap)>2:\n",
    "            self.__swap(1,len(self.heap)-1)\n",
    "            max = self.heap.pop() # remove the last on the list\n",
    "            self.__bubbleDown(1)\n",
    "            \n",
    "        elif len(self.heap) ==2:\n",
    "            max = self.heap.pop()\n",
    "        else:\n",
    "            max = False\n",
    "        return max\n",
    "    ''' obsolete\n",
    "    def delete(self,w):\n",
    "        for i in range(len(self.heap)):\n",
    "            if self.heap[i][1] ==w:\n",
    "                self.__swap(i,len(self.heap)-1)\n",
    "                self.__bubbleDown(i)     \n",
    "    '''   \n",
    "    def __swap(self,i,j): # __internal functions\n",
    "        self.heap[i],self.heap[j] = self.heap[j],self.heap[i]\n",
    "    \n",
    "    def __floatUp(self,index):\n",
    "        parent = index//2 # '//' floor division\n",
    "        if index <= 1:\n",
    "            return\n",
    "        elif self.heap[index][0]>self.heap[parent][0]:\n",
    "            self.__swap(index,parent)\n",
    "            self.__floatUp(parent)\n",
    "        \n",
    "    def __bubbleDown(self, index):\n",
    "        left = index *2\n",
    "        right = index*2 +1\n",
    "        largest = index\n",
    "        if len(self.heap)>left and self.heap[largest][0]<self.heap[left][0]:\n",
    "            largest = left\n",
    "        if len(self.heap)>right and self.heap[largest][0] < self.heap[right][0]:\n",
    "            largest = right\n",
    "        if largest !=index:\n",
    "            self.__swap(index,largest)\n",
    "            self.__bubbleDown(largest)"
   ]
  },
  {
   "cell_type": "code",
   "execution_count": 124,
   "metadata": {},
   "outputs": [
    {
     "data": {
      "text/plain": [
       "[(0, -1, -1),\n",
       " (99, 3, 4),\n",
       " (91, 4, 6),\n",
       " (89, 2, 8),\n",
       " (84, 0, 9),\n",
       " (71, 5, 9),\n",
       " (71, 0, 4),\n",
       " (69, 6, 9),\n",
       " (59, 8, 9),\n",
       " (68, 2, 3),\n",
       " (50, 4, 5),\n",
       " (61, 2, 6),\n",
       " (54, 0, 1),\n",
       " (53, 1, 8),\n",
       " (52, 6, 7),\n",
       " (57, 5, 8),\n",
       " (42, 1, 2),\n",
       " (55, 1, 3),\n",
       " (46, 7, 8),\n",
       " (61, 3, 9),\n",
       " (42, 3, 8),\n",
       " (25, 3, 7),\n",
       " (28, 3, 6),\n",
       " (37, 1, 9),\n",
       " (18, 5, 6),\n",
       " (41, 0, 7),\n",
       " (39, 4, 9),\n",
       " (6, 2, 5),\n",
       " (5, 4, 7),\n",
       " (38, 2, 4),\n",
       " (56, 0, 6)]"
      ]
     },
     "execution_count": 124,
     "metadata": {},
     "output_type": "execute_result"
    }
   ],
   "source": [
    "hs = HeapSort()\n",
    "for pair in g1.Weight:\n",
    "    if pair[0]< pair[1]:\n",
    "        _w = g1.Weight[pair[0],pair[1]]\n",
    "        hs.push((_w,pair[0],pair[1]))\n",
    "hs.heap"
   ]
  },
  {
   "cell_type": "code",
   "execution_count": 125,
   "metadata": {},
   "outputs": [],
   "source": [
    "#Make set v\n",
    "P = [-1]*g1.Vertices\n",
    "rank = [0]*g1.Vertices\n",
    "def Find(v):\n",
    "    cur = v\n",
    "    while P[cur]!=-1:\n",
    "        cur = P[cur]\n",
    "    return cur\n",
    "def Union(r1,r2):\n",
    "    if rank[r1]>rank[r2]:\n",
    "        P[r2]=r1\n",
    "    elif rank[r1]<rank[r2]:\n",
    "        P[r1]=r2\n",
    "    else:\n",
    "        P[r1]=r2"
   ]
  },
  {
   "cell_type": "code",
   "execution_count": 126,
   "metadata": {},
   "outputs": [],
   "source": [
    "T = collections.defaultdict(set)\n",
    "while hs.heap != [(0,-1,-1)]:\n",
    "    ei = hs.pop()\n",
    "    ui,vi = ei[1],ei[2]\n",
    "    r1 = Find(ui)\n",
    "    r2 = Find(vi)\n",
    "    if r1!=r2:\n",
    "        Union(r1,r2)\n",
    "        T[ui].add(vi)\n",
    "        T[vi].add(ui)"
   ]
  },
  {
   "cell_type": "code",
   "execution_count": 127,
   "metadata": {},
   "outputs": [
    {
     "data": {
      "text/plain": [
       "defaultdict(set,\n",
       "            {3: {1, 2, 4},\n",
       "             4: {0, 3, 6},\n",
       "             6: {4, 7},\n",
       "             2: {3, 8},\n",
       "             8: {2},\n",
       "             0: {4, 9},\n",
       "             9: {0, 5},\n",
       "             5: {9},\n",
       "             1: {3},\n",
       "             7: {6}})"
      ]
     },
     "execution_count": 127,
     "metadata": {},
     "output_type": "execute_result"
    }
   ],
   "source": [
    "T"
   ]
  },
  {
   "cell_type": "code",
   "execution_count": 40,
   "metadata": {},
   "outputs": [
    {
     "name": "stdout",
     "output_type": "stream",
     "text": [
      "deque([3, 5])\n",
      "deque([5])\n",
      "3\n"
     ]
    }
   ],
   "source": [
    "queue = collections.deque()\n",
    "queue.append(3)\n",
    "queue.append(5)\n",
    "print(queue)\n",
    "a = queue.popleft()\n",
    "print(queue)\n",
    "print(a)"
   ]
  },
  {
   "cell_type": "code",
   "execution_count": 88,
   "metadata": {},
   "outputs": [],
   "source": [
    "'''def BFS(T,s):\n",
    "    dad = [-1]*g1.Vertices\n",
    "    visited=[False]*g1.Vertices\n",
    "    queue = collections.deque()\n",
    "    visited[s]=True\n",
    "    for w in T[s]:\n",
    "        visited[w]=True\n",
    "        queue.append(w)\n",
    "        dad[w]=s\n",
    "    while queue:\n",
    "        print(visited)\n",
    "        v = queue.popleft()\n",
    "        for w in T[v]:\n",
    "            if visited[w]==False:\n",
    "                visited[w]=True\n",
    "                queue.append(w)\n",
    "                dad[w]=v\n",
    "    return dad\n",
    "'''"
   ]
  },
  {
   "cell_type": "code",
   "execution_count": 99,
   "metadata": {},
   "outputs": [
    {
     "data": {
      "text/plain": [
       "defaultdict(set,\n",
       "            {1: {0, 3},\n",
       "             3: {1, 4},\n",
       "             4: {3, 5, 6},\n",
       "             5: {2, 4},\n",
       "             6: {4, 9},\n",
       "             2: {5},\n",
       "             0: {1, 7},\n",
       "             9: {6},\n",
       "             7: {0, 8},\n",
       "             8: {7}})"
      ]
     },
     "execution_count": 99,
     "metadata": {},
     "output_type": "execute_result"
    }
   ],
   "source": [
    "T"
   ]
  },
  {
   "cell_type": "code",
   "execution_count": 141,
   "metadata": {},
   "outputs": [],
   "source": [
    "def DFS_main(T,s,g1):\n",
    "    dad = [-1]*g1.Vertices\n",
    "    visited=[False]*g1.Vertices\n",
    "    MBP = [0]*g1.Vertices\n",
    "    MBP[s]=9999\n",
    "    DFS(T,s,visited,dad,g1,MBP)\n",
    "    #print (MBP)\n",
    "    return dad,MBP\n",
    "\n",
    "def DFS(T,v,visited,dad,g1,MBP):\n",
    "    visited[v]=True\n",
    "    for w in T[v]:\n",
    "        if visited[w]==False:\n",
    "            print(visited)\n",
    "            dad[w]=v\n",
    "            MBP[w]=min(MBP[v],g1.Weight[w,v])\n",
    "            DFS(T,w,visited,dad,g1,MBP)"
   ]
  },
  {
   "cell_type": "code",
   "execution_count": 142,
   "metadata": {},
   "outputs": [
    {
     "name": "stdout",
     "output_type": "stream",
     "text": [
      "[False, True, False, False, False, False, False, False, False, False]\n",
      "[False, True, False, True, False, False, False, False, False, False]\n",
      "[False, True, True, True, False, False, False, False, False, False]\n",
      "[False, True, True, True, False, False, False, False, True, False]\n",
      "[False, True, True, True, True, False, False, False, True, False]\n",
      "[True, True, True, True, True, False, False, False, True, False]\n",
      "[True, True, True, True, True, False, False, False, True, True]\n",
      "[True, True, True, True, True, True, False, False, True, True]\n",
      "[True, True, True, True, True, True, True, False, True, True]\n"
     ]
    }
   ],
   "source": [
    "path, mbp= DFS_main(T,1,g1)"
   ]
  },
  {
   "cell_type": "code",
   "execution_count": 135,
   "metadata": {},
   "outputs": [
    {
     "data": {
      "text/plain": [
       "[4, -1, 3, 1, 3, 9, 4, 6, 2, 0]"
      ]
     },
     "execution_count": 135,
     "metadata": {},
     "output_type": "execute_result"
    }
   ],
   "source": [
    "path"
   ]
  },
  {
   "cell_type": "code",
   "execution_count": 143,
   "metadata": {},
   "outputs": [
    {
     "data": {
      "text/plain": [
       "[55, 9999, 55, 55, 55, 55, 55, 52, 55, 55]"
      ]
     },
     "execution_count": 143,
     "metadata": {},
     "output_type": "execute_result"
    }
   ],
   "source": [
    "mbp"
   ]
  },
  {
   "cell_type": "code",
   "execution_count": 283,
   "metadata": {},
   "outputs": [
    {
     "name": "stdout",
     "output_type": "stream",
     "text": [
      "0\n",
      "2\n",
      "1\n",
      "3\n",
      "4\n"
     ]
    }
   ],
   "source": [
    "for i in range(len(H.heap)):\n",
    "    print(H.heap[i][1])"
   ]
  }
 ],
 "metadata": {
  "kernelspec": {
   "display_name": "Python 3",
   "language": "python",
   "name": "python3"
  },
  "language_info": {
   "codemirror_mode": {
    "name": "ipython",
    "version": 3
   },
   "file_extension": ".py",
   "mimetype": "text/x-python",
   "name": "python",
   "nbconvert_exporter": "python",
   "pygments_lexer": "ipython3",
   "version": "3.6.8"
  }
 },
 "nbformat": 4,
 "nbformat_minor": 2
}
